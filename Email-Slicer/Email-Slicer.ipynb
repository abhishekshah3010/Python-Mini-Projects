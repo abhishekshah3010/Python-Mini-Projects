{
 "cells": [
  {
   "cell_type": "code",
   "execution_count": 1,
   "metadata": {},
   "outputs": [
    {
     "name": "stdout",
     "output_type": "stream",
     "text": [
      "Enter you email id: abhishekshah3010@gmail.com\n",
      "Your username is: abhishekshah3010\n",
      "Your domain is: gmail.com\n"
     ]
    }
   ],
   "source": [
    "user_input = str(input(\"Enter you email id: \"))\n",
    "username, domain = user_input.split('@')\n",
    "print(\"Your username is: \" + username)\n",
    "print(\"Your domain is: \" + domain)"
   ]
  }
 ],
 "metadata": {
  "kernelspec": {
   "display_name": "Python 3",
   "language": "python",
   "name": "python3"
  },
  "language_info": {
   "codemirror_mode": {
    "name": "ipython",
    "version": 3
   },
   "file_extension": ".py",
   "mimetype": "text/x-python",
   "name": "python",
   "nbconvert_exporter": "python",
   "pygments_lexer": "ipython3",
   "version": "3.8.3"
  }
 },
 "nbformat": 4,
 "nbformat_minor": 4
}
