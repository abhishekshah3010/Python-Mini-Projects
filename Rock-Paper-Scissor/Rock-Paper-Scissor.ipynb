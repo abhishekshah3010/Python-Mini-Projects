{
 "cells": [
  {
   "cell_type": "code",
   "execution_count": 1,
   "metadata": {},
   "outputs": [],
   "source": [
    "import random"
   ]
  },
  {
   "cell_type": "code",
   "execution_count": 2,
   "metadata": {},
   "outputs": [],
   "source": [
    "choices = [\"Rock\", \"Paper\", \"Scissor\"]\n",
    "cpu_score = 0\n",
    "player_score = 0"
   ]
  },
  {
   "cell_type": "code",
   "execution_count": 3,
   "metadata": {},
   "outputs": [
    {
     "name": "stdout",
     "output_type": "stream",
     "text": [
      "Rock, Paper or  Scissor?Rock\n",
      "Tie!\n",
      "Rock, Paper or  Scissor?Paper\n",
      "You lose! Scissor cut Paper\n",
      "Rock, Paper or  Scissor?Scissor\n",
      "You win! Scissor cut Paper\n",
      "Rock, Paper or  Scissor?Scissor\n",
      "You win! Scissor cut Paper\n",
      "Rock, Paper or  Scissor?Paper\n",
      "You win! Paper covers Rock\n",
      "Rock, Paper or  Scissor?Rock\n",
      "Tie!\n",
      "Rock, Paper or  Scissor?Rock\n",
      "You lose! Paper covers Rock\n",
      "Rock, Paper or  Scissor?Paper\n",
      "You lose! Scissor cut Paper\n",
      "Rock, Paper or  Scissor?Scissor\n",
      "Tie!\n",
      "Rock, Paper or  Scissor?End\n",
      "\n",
      "Final Scores:\n",
      "CPU:3\n",
      "Plaer:3\n",
      "\n",
      "Phew! It's a Tie\n"
     ]
    }
   ],
   "source": [
    "while True:\n",
    "    player = input(\"Rock, Paper or  Scissor?\").capitalize()\n",
    "    computer = random.choice(choices)\n",
    "    \n",
    "    if player == computer:\n",
    "        print(\"Tie!\")\n",
    "        \n",
    "    elif player == \"Rock\":\n",
    "        if computer == \"Paper\":\n",
    "            print(\"You lose!\", computer, \"covers\", player)\n",
    "            cpu_score+=1\n",
    "        else:\n",
    "            print(\"You win!\", player, \"smashes\", computer)\n",
    "            player_score+=1\n",
    "            \n",
    "    elif player == \"Paper\":\n",
    "        if computer == \"Scissor\":\n",
    "            print(\"You lose!\", computer, \"cut\", player)\n",
    "            cpu_score+=1\n",
    "        else:\n",
    "            print(\"You win!\", player, \"covers\", computer)\n",
    "            player_score+=1\n",
    "            \n",
    "    elif player == \"Scissor\":\n",
    "        if computer == \"Rock\":\n",
    "            print(\"You lose...\", computer, \"smashes\", player)\n",
    "            cpu_score+=1\n",
    "        else:\n",
    "            print(\"You win!\", player, \"cut\", computer)\n",
    "            player_score+=1\n",
    "            \n",
    "    elif player=='End':\n",
    "        print()\n",
    "        print(\"Final Scores:\")\n",
    "        print(f\"CPU:{cpu_score}\")\n",
    "        print(f\"Plaer:{player_score}\")\n",
    "        print()\n",
    "        if cpu_score>player_score:\n",
    "            print(\"Sad! CPU Wins\")\n",
    "        elif cpu_score==player_score:\n",
    "            print(\"Phew! It's a Tie\")\n",
    "        else:\n",
    "            print(\"Congrats! Player Wins\")\n",
    "        break"
   ]
  },
  {
   "cell_type": "code",
   "execution_count": null,
   "metadata": {},
   "outputs": [],
   "source": []
  }
 ],
 "metadata": {
  "kernelspec": {
   "display_name": "Python 3",
   "language": "python",
   "name": "python3"
  },
  "language_info": {
   "codemirror_mode": {
    "name": "ipython",
    "version": 3
   },
   "file_extension": ".py",
   "mimetype": "text/x-python",
   "name": "python",
   "nbconvert_exporter": "python",
   "pygments_lexer": "ipython3",
   "version": "3.8.3"
  }
 },
 "nbformat": 4,
 "nbformat_minor": 4
}
