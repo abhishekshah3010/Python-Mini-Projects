{
 "cells": [
  {
   "cell_type": "markdown",
   "metadata": {},
   "source": [
    "# Fahrenheit to Celsius"
   ]
  },
  {
   "cell_type": "code",
   "execution_count": 1,
   "metadata": {},
   "outputs": [
    {
     "name": "stdout",
     "output_type": "stream",
     "text": [
      "Enter the temperature in Fahrenheit: 100\n",
      "\n",
      "100.0 Fahrenheit in Celsius is 37.78\n"
     ]
    }
   ],
   "source": [
    "tempf = float(input(\"Enter the temperature in Fahrenheit: \"))\n",
    "tempc = (tempf - 32) * 5/9\n",
    "print()\n",
    "print(f'{tempf} Fahrenheit in Celsius is {round(tempc,2)}')"
   ]
  },
  {
   "cell_type": "markdown",
   "metadata": {},
   "source": [
    "# Celsius to Fahrenheit"
   ]
  },
  {
   "cell_type": "code",
   "execution_count": 2,
   "metadata": {},
   "outputs": [
    {
     "name": "stdout",
     "output_type": "stream",
     "text": [
      "Enter the temperature in Celsius: 37.78\n",
      "\n",
      "37.78 Celsius in Fahrenheit is 100.0\n"
     ]
    }
   ],
   "source": [
    "tempc = float(input(\"Enter the temperature in Celsius: \"))\n",
    "tempf = (tempc * 9/5) + 32\n",
    "print()\n",
    "print(f'{tempc} Celsius in Fahrenheit is {round(tempf,2)}')"
   ]
  }
 ],
 "metadata": {
  "kernelspec": {
   "display_name": "Python 3",
   "language": "python",
   "name": "python3"
  },
  "language_info": {
   "codemirror_mode": {
    "name": "ipython",
    "version": 3
   },
   "file_extension": ".py",
   "mimetype": "text/x-python",
   "name": "python",
   "nbconvert_exporter": "python",
   "pygments_lexer": "ipython3",
   "version": "3.8.3"
  }
 },
 "nbformat": 4,
 "nbformat_minor": 4
}
