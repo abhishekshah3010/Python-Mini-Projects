{
 "cells": [
  {
   "cell_type": "code",
   "execution_count": 1,
   "metadata": {},
   "outputs": [],
   "source": [
    "def quiz(question, answer):\n",
    "    global score\n",
    "    guessing = True\n",
    "    attempt = 0\n",
    "    while guessing and attempt < 3:\n",
    "        if question.lower() == answer.lower():\n",
    "            print(\"Correct Answer\")\n",
    "            score+=1\n",
    "            guessing = False\n",
    "        else:\n",
    "            if attempt < 2:\n",
    "                question = input(\"Sorry Wrong Answer! Please try again\")\n",
    "            attempt+=1\n",
    "    if attempt == 3:\n",
    "        print(\"Nevermind! The Correct answer is \",answer )"
   ]
  },
  {
   "cell_type": "code",
   "execution_count": 2,
   "metadata": {},
   "outputs": [
    {
     "name": "stdout",
     "output_type": "stream",
     "text": [
      "Guess the Animal\n"
     ]
    }
   ],
   "source": [
    "score = 0\n",
    "print(\"Guess the Animal\")"
   ]
  },
  {
   "cell_type": "code",
   "execution_count": 3,
   "metadata": {},
   "outputs": [
    {
     "name": "stdout",
     "output_type": "stream",
     "text": [
      "Which is the National Bird of India? Peacock\n",
      "Correct Answer\n",
      "Which is the fastest land animal? Cheetah\n",
      "Correct Answer\n",
      "Which is the tallest living animal? Giraffe\n",
      "Correct Answer\n",
      "Which is the larget living bird? Ostrich\n",
      "Correct Answer\n",
      "Which is the larget living animal? Whale\n",
      "Sorry Wrong Answer! Please try againBlue Whale\n",
      "Correct Answer\n",
      "Which is the largest of all lizards? Komodo Dragon\n",
      "Correct Answer\n",
      "Your Score is 6\n"
     ]
    }
   ],
   "source": [
    "question1 = input(\"Which is the National Bird of India? \")\n",
    "quiz(question1, \"Peacock\")\n",
    "\n",
    "question2 = input(\"Which is the fastest land animal? \")\n",
    "quiz(question2, \"Cheetah\")\n",
    "\n",
    "question3= input(\"Which is the tallest living animal? \")\n",
    "quiz(question3, \"Giraffe\")\n",
    "\n",
    "question4 = input(\"Which is the larget living bird? \")\n",
    "quiz(question4, \"Ostrich\")\n",
    "\n",
    "question5 = input(\"Which is the larget living animal? \")\n",
    "quiz(question5, \"Blue Whale\")\n",
    "\n",
    "question6= input(\"Which is the largest of all lizards? \")\n",
    "quiz(question6, \"Komodo Dragon\")\n",
    "\n",
    "print(\"Your Score is \"+ str(score))"
   ]
  },
  {
   "cell_type": "code",
   "execution_count": null,
   "metadata": {},
   "outputs": [],
   "source": []
  }
 ],
 "metadata": {
  "kernelspec": {
   "display_name": "Python 3",
   "language": "python",
   "name": "python3"
  },
  "language_info": {
   "codemirror_mode": {
    "name": "ipython",
    "version": 3
   },
   "file_extension": ".py",
   "mimetype": "text/x-python",
   "name": "python",
   "nbconvert_exporter": "python",
   "pygments_lexer": "ipython3",
   "version": "3.8.3"
  }
 },
 "nbformat": 4,
 "nbformat_minor": 4
}
