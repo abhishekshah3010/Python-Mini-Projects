{
 "cells": [
  {
   "cell_type": "code",
   "execution_count": 1,
   "metadata": {},
   "outputs": [],
   "source": [
    "values = {\n",
    "    'I': 1,\n",
    "    'V': 5,\n",
    "    'X': 10,\n",
    "    'L': 50,\n",
    "    'C': 100,\n",
    "    'D': 500,\n",
    "    'M': 1000,\n",
    "}"
   ]
  },
  {
   "cell_type": "code",
   "execution_count": 2,
   "metadata": {},
   "outputs": [
    {
     "name": "stdout",
     "output_type": "stream",
     "text": [
      "Enter any Roman Numeral: VIII\n",
      "VIII to decimal is 8\n"
     ]
    }
   ],
   "source": [
    "roman_numeral = str(input(\"Enter any Roman Numeral: \"))\n",
    "sum = 0\n",
    "for i in range(len(roman_numeral) - 1):\n",
    "    left = roman_numeral[i]\n",
    "    right = roman_numeral[i + 1]\n",
    "\n",
    "    if values[left] < values[right]:\n",
    "        sum = sum - values[left]\n",
    "    else:\n",
    "        sum = sum + values[left]\n",
    "sum = sum + values[roman_numeral[-1]]\n",
    "\n",
    "print('{} to decimal is {}'.format(roman_numeral, sum))"
   ]
  }
 ],
 "metadata": {
  "kernelspec": {
   "display_name": "Python 3",
   "language": "python",
   "name": "python3"
  },
  "language_info": {
   "codemirror_mode": {
    "name": "ipython",
    "version": 3
   },
   "file_extension": ".py",
   "mimetype": "text/x-python",
   "name": "python",
   "nbconvert_exporter": "python",
   "pygments_lexer": "ipython3",
   "version": "3.8.3"
  }
 },
 "nbformat": 4,
 "nbformat_minor": 4
}
