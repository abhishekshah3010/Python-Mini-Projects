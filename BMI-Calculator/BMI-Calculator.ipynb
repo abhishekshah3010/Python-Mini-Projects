{
 "cells": [
  {
   "cell_type": "code",
   "execution_count": 1,
   "metadata": {},
   "outputs": [
    {
     "name": "stdout",
     "output_type": "stream",
     "text": [
      "Enter your height in Centimeters(cms): 173\n",
      "Enter your Weight in Kilograms(kg): 74\n",
      "Your Body Mass Index(BMI) is:  24.725182932941294\n",
      "\n",
      "Yayy! You are Healthy\n"
     ]
    }
   ],
   "source": [
    "height = float(input(\"Enter your height in Centimeters(cms): \"))\n",
    "weight = float(input(\"Enter your Weight in Kilograms(kg): \"))\n",
    "\n",
    "height = height/100\n",
    "bmi = weight/(height*height)\n",
    "print(\"Your Body Mass Index(BMI) is: \",bmi)\n",
    "print()\n",
    "if(bmi>0):\n",
    "    if(bmi<=16):\n",
    "        print(\"Attention! You are severely Underweight\")\n",
    "    elif(bmi<=18.5):\n",
    "        print(\"Eat a lot! You are underweight\")\n",
    "    elif(bmi<=25):\n",
    "        print(\"Yayy! You are Healthy\")\n",
    "    elif(bmi<=30):\n",
    "        print(\"You are overweight\")\n",
    "    else: print(\"Attention! You are severely overweight\")\n",
    "else:(\"Please enter valid details\")"
   ]
  }
 ],
 "metadata": {
  "kernelspec": {
   "display_name": "Python 3",
   "language": "python",
   "name": "python3"
  },
  "language_info": {
   "codemirror_mode": {
    "name": "ipython",
    "version": 3
   },
   "file_extension": ".py",
   "mimetype": "text/x-python",
   "name": "python",
   "nbconvert_exporter": "python",
   "pygments_lexer": "ipython3",
   "version": "3.8.3"
  }
 },
 "nbformat": 4,
 "nbformat_minor": 4
}
