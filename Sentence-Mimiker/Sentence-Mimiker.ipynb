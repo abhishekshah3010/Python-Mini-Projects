{
 "cells": [
  {
   "cell_type": "code",
   "execution_count": 3,
   "metadata": {},
   "outputs": [
    {
     "name": "stdout",
     "output_type": "stream",
     "text": [
      "Enter Some Text: Hi\n",
      "Hi\n",
      "Enter Some Text: How are you?\n",
      "How are you?\n",
      "Enter Some Text: Are you copying me?\n",
      "Are you copying me?\n",
      "Enter Some Text: Aree! Stop mimicking me\n",
      "Aree! Stop mimicking me\n",
      "Enter Some Text: Huhhhhh!\n",
      "Huhhhhh!\n",
      "Enter Some Text: Okay Bye\n",
      "Okay Bye\n",
      "Enter Some Text: What the...\n",
      "What the...\n",
      "Enter Some Text: Stop now\n",
      "Stop now\n",
      "Enter Some Text: Stop\n"
     ]
    }
   ],
   "source": [
    "while True:\n",
    "    sentence = input(\"Enter Some Text: \")\n",
    "    if sentence == 'stop' or sentence == 'Stop': \n",
    "        break\n",
    "    print(sentence)"
   ]
  },
  {
   "cell_type": "code",
   "execution_count": null,
   "metadata": {},
   "outputs": [],
   "source": []
  }
 ],
 "metadata": {
  "kernelspec": {
   "display_name": "Python 3",
   "language": "python",
   "name": "python3"
  },
  "language_info": {
   "codemirror_mode": {
    "name": "ipython",
    "version": 3
   },
   "file_extension": ".py",
   "mimetype": "text/x-python",
   "name": "python",
   "nbconvert_exporter": "python",
   "pygments_lexer": "ipython3",
   "version": "3.8.3"
  }
 },
 "nbformat": 4,
 "nbformat_minor": 4
}
