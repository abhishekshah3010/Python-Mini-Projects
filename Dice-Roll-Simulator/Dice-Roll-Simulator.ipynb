{
 "cells": [
  {
   "cell_type": "code",
   "execution_count": 1,
   "metadata": {},
   "outputs": [],
   "source": [
    "import random"
   ]
  },
  {
   "cell_type": "code",
   "execution_count": 2,
   "metadata": {},
   "outputs": [],
   "source": [
    "min_val = 1\n",
    "max_val = 6"
   ]
  },
  {
   "cell_type": "code",
   "execution_count": 3,
   "metadata": {},
   "outputs": [
    {
     "name": "stdout",
     "output_type": "stream",
     "text": [
      "Do you want to roll the dice? Yes\n",
      "Rolling The Dices...\n",
      "The Values are :\n",
      "6\n",
      "2\n",
      "Roll the Dices Again?Yes\n",
      "Rolling The Dices...\n",
      "The Values are :\n",
      "6\n",
      "1\n",
      "Roll the Dices Again?yes\n",
      "Rolling The Dices...\n",
      "The Values are :\n",
      "6\n",
      "2\n",
      "Roll the Dices Again?No\n"
     ]
    }
   ],
   "source": [
    "roll_again = str(input(\"Do you want to roll the dice? \"))\n",
    "while roll_again == \"yes\" or roll_again == \"Yes\":\n",
    "    print(\"Rolling The Dices...\")\n",
    "    print(\"The Values are :\")\n",
    "    print(random.randint(min_val, max_val))    \n",
    "    print(random.randint(min_val, max_val))\n",
    "    roll_again = input(\"Roll the Dices Again?\") "
   ]
  }
 ],
 "metadata": {
  "kernelspec": {
   "display_name": "Python 3",
   "language": "python",
   "name": "python3"
  },
  "language_info": {
   "codemirror_mode": {
    "name": "ipython",
    "version": 3
   },
   "file_extension": ".py",
   "mimetype": "text/x-python",
   "name": "python",
   "nbconvert_exporter": "python",
   "pygments_lexer": "ipython3",
   "version": "3.8.3"
  }
 },
 "nbformat": 4,
 "nbformat_minor": 4
}
